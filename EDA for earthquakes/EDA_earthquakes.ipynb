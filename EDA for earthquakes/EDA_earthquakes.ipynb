{
 "cells": [
  {
   "cell_type": "markdown",
   "metadata": {},
   "source": [
    "# EDA for Earthquakes"
   ]
  },
  {
   "cell_type": "code",
   "execution_count": 1,
   "metadata": {},
   "outputs": [],
   "source": [
    "# Load the libraries we'll use\n",
    "######################################\n",
    "\n",
    "# Basic numerics\n",
    "import numpy as np\n",
    "import scipy as sp\n",
    "import scipy.stats as st\n",
    "\n",
    "# Data handling\n",
    "import pandas as pd\n",
    "\n",
    "# Graphics\n",
    "import matplotlib.pyplot as plt\n",
    "import seaborn as sns\n",
    "sns.set_style(\"whitegrid\", {'axes.grid' : False})\n",
    "\n",
    "# Statistical tools\n",
    "from statsmodels.distributions.empirical_distribution import ECDF\n",
    "import statsmodels.api as sm"
   ]
  },
  {
   "cell_type": "markdown",
   "metadata": {},
   "source": [
    "Before doing anything else, we make sure there's a directory to receive the figures we'll plot."
   ]
  },
  {
   "cell_type": "code",
   "execution_count": 2,
   "metadata": {},
   "outputs": [],
   "source": [
    "# https://www.tutorialspoint.com/How-can-I-create-a-directory-if-it-does-not-exist-using-Python\n",
    "import os\n",
    "if not os.path.exists('Figures'):\n",
    "    os.makedirs('Figures')"
   ]
  },
  {
   "cell_type": "markdown",
   "metadata": {},
   "source": [
    "## Read the data"
   ]
  },
  {
   "cell_type": "markdown",
   "metadata": {},
   "source": [
    "Pandas has convenient, built-in functions to read CSV files."
   ]
  },
  {
   "cell_type": "code",
   "execution_count": 4,
   "metadata": {},
   "outputs": [
    {
     "data": {
      "text/html": [
       "<div>\n",
       "<style scoped>\n",
       "    .dataframe tbody tr th:only-of-type {\n",
       "        vertical-align: middle;\n",
       "    }\n",
       "\n",
       "    .dataframe tbody tr th {\n",
       "        vertical-align: top;\n",
       "    }\n",
       "\n",
       "    .dataframe thead th {\n",
       "        text-align: right;\n",
       "    }\n",
       "</style>\n",
       "<table border=\"1\" class=\"dataframe\">\n",
       "  <thead>\n",
       "    <tr style=\"text-align: right;\">\n",
       "      <th></th>\n",
       "      <th>time</th>\n",
       "      <th>latitude</th>\n",
       "      <th>longitude</th>\n",
       "      <th>depth</th>\n",
       "      <th>mag</th>\n",
       "      <th>magType</th>\n",
       "      <th>nst</th>\n",
       "      <th>gap</th>\n",
       "      <th>dmin</th>\n",
       "      <th>rms</th>\n",
       "      <th>...</th>\n",
       "      <th>updated</th>\n",
       "      <th>place</th>\n",
       "      <th>type</th>\n",
       "      <th>horizontalError</th>\n",
       "      <th>depthError</th>\n",
       "      <th>magError</th>\n",
       "      <th>magNst</th>\n",
       "      <th>status</th>\n",
       "      <th>locationSource</th>\n",
       "      <th>magSource</th>\n",
       "    </tr>\n",
       "  </thead>\n",
       "  <tbody>\n",
       "    <tr>\n",
       "      <th>0</th>\n",
       "      <td>2018-08-13T20:32:00.830Z</td>\n",
       "      <td>33.860333</td>\n",
       "      <td>-117.501167</td>\n",
       "      <td>1.50</td>\n",
       "      <td>1.56</td>\n",
       "      <td>ml</td>\n",
       "      <td>29.0</td>\n",
       "      <td>44.0</td>\n",
       "      <td>0.06337</td>\n",
       "      <td>0.2600</td>\n",
       "      <td>...</td>\n",
       "      <td>2018-08-13T20:35:51.429Z</td>\n",
       "      <td>3km SE of Home Gardens, CA</td>\n",
       "      <td>quarry blast</td>\n",
       "      <td>0.38</td>\n",
       "      <td>0.71</td>\n",
       "      <td>0.213</td>\n",
       "      <td>37.0</td>\n",
       "      <td>automatic</td>\n",
       "      <td>ci</td>\n",
       "      <td>ci</td>\n",
       "    </tr>\n",
       "    <tr>\n",
       "      <th>1</th>\n",
       "      <td>2018-08-13T20:15:08.350Z</td>\n",
       "      <td>33.523667</td>\n",
       "      <td>-116.747333</td>\n",
       "      <td>3.69</td>\n",
       "      <td>0.40</td>\n",
       "      <td>ml</td>\n",
       "      <td>14.0</td>\n",
       "      <td>90.0</td>\n",
       "      <td>0.04246</td>\n",
       "      <td>0.0800</td>\n",
       "      <td>...</td>\n",
       "      <td>2018-08-13T20:18:36.325Z</td>\n",
       "      <td>8km WSW of Anza, CA</td>\n",
       "      <td>earthquake</td>\n",
       "      <td>0.18</td>\n",
       "      <td>0.42</td>\n",
       "      <td>0.137</td>\n",
       "      <td>9.0</td>\n",
       "      <td>automatic</td>\n",
       "      <td>ci</td>\n",
       "      <td>ci</td>\n",
       "    </tr>\n",
       "    <tr>\n",
       "      <th>2</th>\n",
       "      <td>2018-08-13T20:11:13.973Z</td>\n",
       "      <td>40.601000</td>\n",
       "      <td>-115.955500</td>\n",
       "      <td>0.00</td>\n",
       "      <td>2.20</td>\n",
       "      <td>ml</td>\n",
       "      <td>12.0</td>\n",
       "      <td>108.3</td>\n",
       "      <td>0.43800</td>\n",
       "      <td>0.1944</td>\n",
       "      <td>...</td>\n",
       "      <td>2018-08-13T20:28:20.650Z</td>\n",
       "      <td>17km SE of Carlin, Nevada</td>\n",
       "      <td>explosion</td>\n",
       "      <td>NaN</td>\n",
       "      <td>0.00</td>\n",
       "      <td>0.080</td>\n",
       "      <td>8.0</td>\n",
       "      <td>reviewed</td>\n",
       "      <td>nn</td>\n",
       "      <td>nn</td>\n",
       "    </tr>\n",
       "    <tr>\n",
       "      <th>3</th>\n",
       "      <td>2018-08-13T20:09:39.080Z</td>\n",
       "      <td>33.482333</td>\n",
       "      <td>-116.744333</td>\n",
       "      <td>7.91</td>\n",
       "      <td>0.34</td>\n",
       "      <td>ml</td>\n",
       "      <td>18.0</td>\n",
       "      <td>65.0</td>\n",
       "      <td>0.06527</td>\n",
       "      <td>0.1800</td>\n",
       "      <td>...</td>\n",
       "      <td>2018-08-13T20:13:23.288Z</td>\n",
       "      <td>10km SW of Anza, CA</td>\n",
       "      <td>earthquake</td>\n",
       "      <td>0.35</td>\n",
       "      <td>0.86</td>\n",
       "      <td>0.093</td>\n",
       "      <td>8.0</td>\n",
       "      <td>automatic</td>\n",
       "      <td>ci</td>\n",
       "      <td>ci</td>\n",
       "    </tr>\n",
       "    <tr>\n",
       "      <th>4</th>\n",
       "      <td>2018-08-13T19:59:26.490Z</td>\n",
       "      <td>33.491167</td>\n",
       "      <td>-116.795500</td>\n",
       "      <td>2.54</td>\n",
       "      <td>0.39</td>\n",
       "      <td>ml</td>\n",
       "      <td>11.0</td>\n",
       "      <td>109.0</td>\n",
       "      <td>0.08857</td>\n",
       "      <td>0.0800</td>\n",
       "      <td>...</td>\n",
       "      <td>2018-08-13T20:02:57.234Z</td>\n",
       "      <td>8km NE of Aguanga, CA</td>\n",
       "      <td>earthquake</td>\n",
       "      <td>0.26</td>\n",
       "      <td>0.37</td>\n",
       "      <td>0.055</td>\n",
       "      <td>8.0</td>\n",
       "      <td>automatic</td>\n",
       "      <td>ci</td>\n",
       "      <td>ci</td>\n",
       "    </tr>\n",
       "  </tbody>\n",
       "</table>\n",
       "<p>5 rows × 22 columns</p>\n",
       "</div>"
      ],
      "text/plain": [
       "                       time   latitude   longitude  depth   mag magType   nst  \\\n",
       "0  2018-08-13T20:32:00.830Z  33.860333 -117.501167   1.50  1.56      ml  29.0   \n",
       "1  2018-08-13T20:15:08.350Z  33.523667 -116.747333   3.69  0.40      ml  14.0   \n",
       "2  2018-08-13T20:11:13.973Z  40.601000 -115.955500   0.00  2.20      ml  12.0   \n",
       "3  2018-08-13T20:09:39.080Z  33.482333 -116.744333   7.91  0.34      ml  18.0   \n",
       "4  2018-08-13T19:59:26.490Z  33.491167 -116.795500   2.54  0.39      ml  11.0   \n",
       "\n",
       "     gap     dmin     rms  ...                   updated  \\\n",
       "0   44.0  0.06337  0.2600  ...  2018-08-13T20:35:51.429Z   \n",
       "1   90.0  0.04246  0.0800  ...  2018-08-13T20:18:36.325Z   \n",
       "2  108.3  0.43800  0.1944  ...  2018-08-13T20:28:20.650Z   \n",
       "3   65.0  0.06527  0.1800  ...  2018-08-13T20:13:23.288Z   \n",
       "4  109.0  0.08857  0.0800  ...  2018-08-13T20:02:57.234Z   \n",
       "\n",
       "                        place          type horizontalError depthError  \\\n",
       "0  3km SE of Home Gardens, CA  quarry blast            0.38       0.71   \n",
       "1         8km WSW of Anza, CA    earthquake            0.18       0.42   \n",
       "2   17km SE of Carlin, Nevada     explosion             NaN       0.00   \n",
       "3         10km SW of Anza, CA    earthquake            0.35       0.86   \n",
       "4       8km NE of Aguanga, CA    earthquake            0.26       0.37   \n",
       "\n",
       "   magError  magNst     status  locationSource magSource  \n",
       "0     0.213    37.0  automatic              ci        ci  \n",
       "1     0.137     9.0  automatic              ci        ci  \n",
       "2     0.080     8.0   reviewed              nn        nn  \n",
       "3     0.093     8.0  automatic              ci        ci  \n",
       "4     0.055     8.0  automatic              ci        ci  \n",
       "\n",
       "[5 rows x 22 columns]"
      ]
     },
     "execution_count": 4,
     "metadata": {},
     "output_type": "execute_result"
    }
   ],
   "source": [
    "# Read in the data as a Pandas dataframe\n",
    "earthquake_df = pd.read_csv('./earthquakes_US_14Jul-13Aug_2018.csv')\n",
    "earthquake_df.head() # shows the first few rows of the dataframe"
   ]
  },
  {
   "cell_type": "markdown",
   "metadata": {},
   "source": [
    "## Focus on the magnitudes"
   ]
  },
  {
   "cell_type": "code",
   "execution_count": 5,
   "metadata": {},
   "outputs": [],
   "source": [
    "# Extract a univariate dataset consisting of the magnitudes \n",
    "magnitudes = earthquake_df.mag.values"
   ]
  },
  {
   "cell_type": "markdown",
   "metadata": {},
   "source": [
    "The block of code below draws a combined rug plot (lossless), histogram (lossy) and kernel density estimate (KDE, lossy). "
   ]
  },
  {
   "cell_type": "code",
   "execution_count": 6,
   "metadata": {},
   "outputs": [
    {
     "data": {
      "image/png": "[encoded data removed]",
      "text/plain": [
       "<Figure size 648x252 with 1 Axes>"
      ]
     },
     "metadata": {},
     "output_type": "display_data"
    }
   ],
   "source": [
    "# Set the dimensions of the plot\n",
    "widthInInches = 9\n",
    "heightInInches = 3.5\n",
    "plt.figure( figsize=(widthInInches, heightInInches) )\n",
    "\n",
    "# Draw histograms and KDEs using commands suited to  \n",
    "# the installed version of Seaborn.\n",
    "seabornVersionStr = sns.__version__\n",
    "versionStrParts = seabornVersionStr.split('.')\n",
    "if( int(versionStrParts[1]) < 11 ):\n",
    "    # Use the older, now-deprectaed form\n",
    "    kdeAxes = sns.distplot( magnitudes,\n",
    "                 kde_kws={\"label\": \"Kernel Density\", \"color\" : \"black\"},\n",
    "                 hist_kws={\"label\": \"Histogram\", \"color\" : 'lightsteelblue'}\n",
    "            )\n",
    "else:\n",
    "    # Use the more recent form\n",
    "    kdeAxes = sns.kdeplot( magnitudes, color=\"black\", label=\"Kernel Density\")\n",
    "    sns.histplot( magnitudes, stat=\"density\", color = \"lightsteelblue\", label=\"Histogram\"  )\n",
    "\n",
    "# Finally, add a rug plot\n",
    "sns.rugplot( magnitudes, label=\"Rug Plot\" )\n",
    "\n",
    "# Add labels\n",
    "plt.xlabel('Earthquake Magnitude')\n",
    "plt.ylabel('Estimated Density')\n",
    "\n",
    "# Add tick marks abd set the limits of the axes\n",
    "plt.xticks((0,1,2,3,4,5))\n",
    "plt.xlim([0,5])\n",
    "plt.legend()\n",
    "plt.tight_layout()\n",
    "\n",
    "# Save a PDF version, then display the result here too\n",
    "plt.savefig('Figures/earth_distplot.pdf')\n",
    "plt.show()"
   ]
  },
  {
   "cell_type": "code",
   "execution_count": 7,
   "metadata": {},
   "outputs": [
    {
     "data": {
      "text/plain": [
       "'0.11.0'"
      ]
     },
     "execution_count": 7,
     "metadata": {},
     "output_type": "execute_result"
    }
   ],
   "source": [
    "seabornVersionStr"
   ]
  },
  {
   "cell_type": "markdown",
   "metadata": {},
   "source": [
    "## Summary statistics"
   ]
  },
  {
   "cell_type": "markdown",
   "metadata": {},
   "source": [
    "Here we compute the mean and variance of the magniudes, using tools built into numpy"
   ]
  },
  {
   "cell_type": "code",
   "execution_count": 8,
   "metadata": {},
   "outputs": [
    {
     "data": {
      "text/plain": [
       "0.9555100148367953"
      ]
     },
     "execution_count": 8,
     "metadata": {},
     "output_type": "execute_result"
    }
   ],
   "source": [
    "np.mean(magnitudes)"
   ]
  },
  {
   "cell_type": "markdown",
   "metadata": {},
   "source": [
    "#### Biased and unbiased estimates of the variance"
   ]
  },
  {
   "cell_type": "markdown",
   "metadata": {},
   "source": [
    "By default, numpy computes the biased estimate of the variance ..."
   ]
  },
  {
   "cell_type": "code",
   "execution_count": 9,
   "metadata": {},
   "outputs": [
    {
     "data": {
      "text/plain": [
       "0.400257047006528"
      ]
     },
     "execution_count": 9,
     "metadata": {},
     "output_type": "execute_result"
    }
   ],
   "source": [
    "np.var(magnitudes)"
   ]
  },
  {
   "cell_type": "markdown",
   "metadata": {},
   "source": [
    "but it's easy to compute the unbiaed one too. For a sample as large as the one we have here, the two estimates don't differ much."
   ]
  },
  {
   "cell_type": "code",
   "execution_count": 10,
   "metadata": {},
   "outputs": [
    {
     "data": {
      "text/plain": [
       "0.40033129242426246"
      ]
     },
     "execution_count": 10,
     "metadata": {},
     "output_type": "execute_result"
    }
   ],
   "source": [
    "np.var(magnitudes,ddof=1)"
   ]
  },
  {
   "cell_type": "markdown",
   "metadata": {},
   "source": [
    "#### Estimates of the standard deviation, third moment and excess kurtosis"
   ]
  },
  {
   "cell_type": "code",
   "execution_count": 11,
   "metadata": {},
   "outputs": [],
   "source": [
    "ss = np.sqrt(np.var(magnitudes))"
   ]
  },
  {
   "cell_type": "code",
   "execution_count": 12,
   "metadata": {},
   "outputs": [
    {
     "data": {
      "text/plain": [
       "1.0710553097009332"
      ]
     },
     "execution_count": 12,
     "metadata": {},
     "output_type": "execute_result"
    }
   ],
   "source": [
    "sp.stats.moment(magnitudes,3)/(ss**3)"
   ]
  },
  {
   "cell_type": "code",
   "execution_count": 13,
   "metadata": {},
   "outputs": [
    {
     "data": {
      "text/plain": [
       "1.4368380067616835"
      ]
     },
     "execution_count": 13,
     "metadata": {},
     "output_type": "execute_result"
    }
   ],
   "source": [
    "(sp.stats.moment(magnitudes,4)/(ss**4)) - 3"
   ]
  },
  {
   "cell_type": "markdown",
   "metadata": {},
   "source": [
    "## Measures of central tendency"
   ]
  },
  {
   "cell_type": "markdown",
   "metadata": {},
   "source": [
    "Estimate the mean, median and mode and add them to the density plot."
   ]
  },
  {
   "cell_type": "code",
   "execution_count": 14,
   "metadata": {},
   "outputs": [],
   "source": [
    "# The mean and median are straightforward:\n",
    "meanMagnitude = np.mean(magnitudes)\n",
    "medianMagnitude = np.median(magnitudes)"
   ]
  },
  {
   "cell_type": "markdown",
   "metadata": {},
   "source": [
    "Here we take a practical, if somewhat fiddly, approach to estimating the mode."
   ]
  },
  {
   "cell_type": "code",
   "execution_count": 15,
   "metadata": {},
   "outputs": [],
   "source": [
    "# Examine the density plot made above and extract the list of (x,y) \n",
    "# pairs used to draw the KDE curve\n",
    "kdeX, kdeY = kdeAxes.get_lines()[0].get_data()\n",
    "\n",
    "# Also get the limits of the vertical axis: we'll want these to\n",
    "# draw markers for the mean, median and mode.\n",
    "kdeYLimits = kdeAxes.get_ylim()\n",
    "kdeYMax = kdeYLimits[1]\n",
    "\n",
    "# Find the position in the list of y values where the maximum y-value occurs\n",
    "posOfMax = 0 \n",
    "maxSoFar = kdeY[0] \n",
    "for j in range(len(kdeY)):\n",
    "    if( kdeY[j] > maxSoFar ):\n",
    "        posOfMax = j\n",
    "        maxSoFar = kdeY[j]\n",
    "# \n",
    "# Use the corresponding x value as an estimate of the median.\n",
    "magnitudeMode = kdeX[posOfMax]"
   ]
  },
  {
   "cell_type": "markdown",
   "metadata": {},
   "source": [
    "#### Plot the KDE curve, then add vertical lines for the mean, median and mode"
   ]
  },
  {
   "cell_type": "code",
   "execution_count": 16,
   "metadata": {},
   "outputs": [
    {
     "data": {
      "image/png": "[encoded data removed]",
      "text/plain": [
       "<Figure size 648x252 with 1 Axes>"
      ]
     },
     "metadata": {},
     "output_type": "display_data"
    }
   ],
   "source": [
    "# Set the dimensions of the plot\n",
    "plt.figure( figsize=(widthInInches, heightInInches) )\n",
    "\n",
    "# Plot the kernel density estimate curve\n",
    "plt.plot(kdeX, kdeY, '-k')\n",
    "\n",
    "# Get ready to plot vertical lines\n",
    "xx = np.ones(2)\n",
    "yy = np.array([0, kdeYMax])\n",
    "\n",
    "# Add variouosly dashed vertical lines for the three\n",
    "# measures fo central tendency\n",
    "plt.plot( meanMagnitude*xx, yy,'--b',label='Mean')\n",
    "plt.plot( medianMagnitude*xx, yy,'-.r',label='Median')\n",
    "plt.plot( magnitudeMode*xx, yy,':m',label='KDE-estimated Mode')\n",
    "\n",
    "# Add labels and set the positions of the tick marks\n",
    "plt.xlabel('Earthquake Magnitude')\n",
    "plt.ylabel('Estimated Density')\n",
    "plt.ylim(kdeYLimits)\n",
    "plt.xlim([0,5])\n",
    "plt.xticks((0,1,2,3,4,5))\n",
    "\n",
    "# Add a legend\n",
    "plt.legend()\n",
    "plt.tight_layout()\n",
    "\n",
    "# Save a copy as a PDF, then show the figure\n",
    "plt.savefig('Figures/earth_central.pdf')\n",
    "plt.show()"
   ]
  },
  {
   "cell_type": "markdown",
   "metadata": {},
   "source": [
    "## Empirical Cumulative Density Function (ECDF)"
   ]
  },
  {
   "cell_type": "markdown",
   "metadata": {},
   "source": [
    "The `statsmodels` package includes routines to compute this easily. The result has two parts, a list of $x$ values and a corresponding list of $y$ values."
   ]
  },
  {
   "cell_type": "code",
   "execution_count": 17,
   "metadata": {},
   "outputs": [],
   "source": [
    "# Get the curve. \n",
    "ecdf=ECDF(magnitudes)"
   ]
  },
  {
   "cell_type": "markdown",
   "metadata": {},
   "source": [
    "Next we plot the curve. It's piecewise constant, with a vertical jump of $1/n$ at each $x$ value that occurs in the data."
   ]
  },
  {
   "cell_type": "code",
   "execution_count": 18,
   "metadata": {},
   "outputs": [
    {
     "data": {
      "image/png": "[encoded data removed]",
      "text/plain": [
       "<Figure size 648x252 with 1 Axes>"
      ]
     },
     "metadata": {},
     "output_type": "display_data"
    }
   ],
   "source": [
    "# Set the dimensions of the plot\n",
    "plt.figure( figsize=(widthInInches, heightInInches) )\n",
    "\n",
    "# Draw the curve\n",
    "plt.step(ecdf.x, ecdf.y, c='k')\n",
    "\n",
    "# Add captions, tick marks and the like\n",
    "plt.xlabel('Earthquake Magnitude')\n",
    "plt.ylabel('ECDF')\n",
    "plt.ylim([0,1.02])\n",
    "plt.xlim([0,5])\n",
    "plt.xticks((0,1,2,3,4,5))\n",
    "plt.tight_layout()\n",
    "\n",
    "# Blap the image out, both to a file and to the screen\n",
    "plt.savefig('Figures/earth_ecdf.pdf')\n",
    "plt.show()"
   ]
  },
  {
   "cell_type": "markdown",
   "metadata": {},
   "source": [
    "#### Empirical quantiles"
   ]
  },
  {
   "cell_type": "markdown",
   "metadata": {},
   "source": [
    "Once we have the ECDF, we can use it to find estimates of the quantiles. Here we compute the positions of the 25th, 50th, 75th, 90th and 99th."
   ]
  },
  {
   "cell_type": "code",
   "execution_count": 19,
   "metadata": {},
   "outputs": [],
   "source": [
    "p25 = np.percentile(magnitudes,25)\n",
    "p50 = np.percentile(magnitudes,50)\n",
    "p75 = np.percentile(magnitudes,75)\n",
    "p95 = np.percentile(magnitudes,95)\n",
    "p99 = np.percentile(magnitudes,99)"
   ]
  },
  {
   "cell_type": "markdown",
   "metadata": {},
   "source": [
    "Now draw them on the same axes as the ECDF."
   ]
  },
  {
   "cell_type": "code",
   "execution_count": 20,
   "metadata": {},
   "outputs": [
    {
     "data": {
      "image/png": "[encoded data removed]",
      "text/plain": [
       "<Figure size 648x252 with 1 Axes>"
      ]
     },
     "metadata": {},
     "output_type": "display_data"
    }
   ],
   "source": [
    "# Set the dimensions of the plot\n",
    "plt.figure( figsize=(widthInInches, heightInInches) )\n",
    "\n",
    "# Draw the ECDF as a solid curve\n",
    "plt.step(ecdf.x, 100*ecdf.y, color='blueviolet' )\n",
    "\n",
    "# Add dashed lines for the quantiles computed above.\n",
    "plt.plot([0,p25,p25],[25, 25, 0],'--k')\n",
    "plt.plot([0,p50,p50],[50, 50, 0],'--k')\n",
    "plt.plot([0,p75,p75],[75, 75, 0],'--k')\n",
    "plt.plot([0,p95,p95],[95, 95, 0],'--k')\n",
    "plt.plot([0,p99,p99],[99, 99, 0],'--k')\n",
    "\n",
    "# Add axis lables, tick marks and the like\n",
    "plt.xlabel('Earthquake Magnitude')\n",
    "plt.ylabel('ECDF x 100%')\n",
    "plt.ylim([0,102])\n",
    "plt.xlim([0,5])\n",
    "plt.xticks((0,p25,p50,p75,p95,p99,5),('0','$P_{25}$','$P_{50}$','$P_{75}$','$P_{95}$','$P_{99}$','5'))\n",
    "plt.tight_layout()\n",
    "\n",
    "# Blap the image out, both to a file and to the screen\n",
    "plt.savefig('Figures/earth_q_ecdf.pdf')\n",
    "plt.show()"
   ]
  },
  {
   "cell_type": "markdown",
   "metadata": {},
   "source": [
    "#### The survival function"
   ]
  },
  {
   "cell_type": "markdown",
   "metadata": {},
   "source": [
    "This function gets its name from a different application, where the hosizontal axis is measured in time units &mdash; years, say &mdash; and the vertical axis shows the fraction of an initial popultion who survive to the given age."
   ]
  },
  {
   "cell_type": "code",
   "execution_count": 45,
   "metadata": {},
   "outputs": [
    {
     "data": {
      "image/png": "[encoded data removed]",
      "text/plain": [
       "<Figure size 648x252 with 1 Axes>"
      ]
     },
     "metadata": {},
     "output_type": "display_data"
    }
   ],
   "source": [
    "# Set the dimensions of the plot\n",
    "plt.figure( figsize=(widthInInches, heightInInches) )\n",
    "\n",
    "# Add the survival function, which is just 1 - ECDF\n",
    "plt.step(ecdf.x,1-ecdf.y,c='k')\n",
    "\n",
    "# Add axis lables, tick marks and the like\n",
    "plt.xlabel('Earthquake Magnitude')\n",
    "plt.ylabel('1 - ECDF')\n",
    "#plt.xscale('log')\n",
    "plt.yscale('log') # Put y on a log scale\n",
    "plt.xlim([0,5])\n",
    "plt.xticks((0,1,2,3,4,5))\n",
    "plt.ylim((1e-4,2))\n",
    "plt.tight_layout()\n",
    "\n",
    "# Blap the image out, both to a file and to the screen\n",
    "plt.savefig('Figures/earth_ll_ecdf.pdf')\n",
    "plt.show()"
   ]
  },
  {
   "cell_type": "markdown",
   "metadata": {},
   "source": [
    "#### The interquartile range (IQR)"
   ]
  },
  {
   "cell_type": "markdown",
   "metadata": {},
   "source": [
    "A standard measure of the spread, or dispersal of the data is the interqartile range: the dofference between the 1st and 3rd quartiles. Here we calculate it in two ways: first directly, using the 25th and 75th precentiles computed above, and then again using built-in routine from `scipy.stats`."
   ]
  },
  {
   "cell_type": "code",
   "execution_count": 22,
   "metadata": {},
   "outputs": [
    {
     "data": {
      "text/plain": [
       "0.79"
      ]
     },
     "execution_count": 22,
     "metadata": {},
     "output_type": "execute_result"
    }
   ],
   "source": [
    "# Directly, form percentils\n",
    "p75-p25"
   ]
  },
  {
   "cell_type": "code",
   "execution_count": 23,
   "metadata": {},
   "outputs": [
    {
     "data": {
      "text/plain": [
       "0.79"
      ]
     },
     "execution_count": 23,
     "metadata": {},
     "output_type": "execute_result"
    }
   ],
   "source": [
    "# Using scipy.stats\n",
    "st.iqr(magnitudes)"
   ]
  },
  {
   "cell_type": "markdown",
   "metadata": {},
   "source": [
    "## Density estimation"
   ]
  },
  {
   "cell_type": "markdown",
   "metadata": {},
   "source": [
    "In this section we explore in more detail two approaches to estimating the undelying density from which a sample of continuously-distributed data has been drawn."
   ]
  },
  {
   "cell_type": "markdown",
   "metadata": {},
   "source": [
    "### Histogram as a density estimate"
   ]
  },
  {
   "cell_type": "markdown",
   "metadata": {},
   "source": [
    "The block below computes two estimates of the density of earthquake magnitude, that differ only in the number of bins used. The one with more, narrower bins is noisier as, necessarily, fewer counts fall into each bin."
   ]
  },
  {
   "cell_type": "markdown",
   "metadata": {},
   "source": [
    "#### Compute the two histograms"
   ]
  },
  {
   "cell_type": "markdown",
   "metadata": {},
   "source": [
    "Do one with 10 bins and the other with 100. Also, print the total number of measurements."
   ]
  },
  {
   "cell_type": "code",
   "execution_count": 50,
   "metadata": {},
   "outputs": [
    {
     "data": {
      "text/plain": [
       "5392"
      ]
     },
     "execution_count": 50,
     "metadata": {},
     "output_type": "execute_result"
    }
   ],
   "source": [
    "yh10, xh10 = np.histogram(magnitudes,10, density=True)\n",
    "yh100, xh100 = np.histogram(magnitudes,100, density=True)\n",
    "len( magnitudes )"
   ]
  },
  {
   "cell_type": "markdown",
   "metadata": {},
   "source": [
    "#### Draw them on the same axes."
   ]
  },
  {
   "cell_type": "code",
   "execution_count": 51,
   "metadata": {},
   "outputs": [
    {
     "data": {
      "image/png": "[encoded data removed]",
      "text/plain": [
       "<Figure size 648x252 with 1 Axes>"
      ]
     },
     "metadata": {},
     "output_type": "display_data"
    }
   ],
   "source": [
    "# Set the dimensions of the plot\n",
    "plt.figure( figsize=(widthInInches, heightInInches) )\n",
    "\n",
    "# Draw the density estimates\n",
    "# The middle line draws a thick white line to clear space for the 10-bin histogram's curve\n",
    "plt.step(xh100,np.concatenate((np.zeros(1),yh100)), color='maroon',label='100-bin Histogram')\n",
    "plt.step(xh10,np.concatenate((np.zeros(1),yh10)),'w',linewidth=3)\n",
    "plt.step(xh10,np.concatenate((np.zeros(1),yh10)), color='darkslateblue', linestyle='dashed',label='10-bin Histogram')\n",
    "\n",
    "# Add axis lables, tick marks and the like\n",
    "plt.xlabel('Earthquake Magnitude')\n",
    "plt.ylabel('Estimated Density')\n",
    "plt.xlim([0,5])\n",
    "plt.xticks((0,1,2,3,4,5))\n",
    "plt.legend()\n",
    "plt.tight_layout()\n",
    "\n",
    "# Blap the image out, both to a file and to the screen\n",
    "plt.savefig('Figures/earth_hists.pdf')\n",
    "plt.show()"
   ]
  },
  {
   "cell_type": "markdown",
   "metadata": {},
   "source": [
    "## Kernel density estimates"
   ]
  },
  {
   "cell_type": "markdown",
   "metadata": {},
   "source": [
    "First we compute density estimates using three standard kernels: the uniform, triangular and Gaussian kernels."
   ]
  },
  {
   "cell_type": "code",
   "execution_count": 47,
   "metadata": {},
   "outputs": [],
   "source": [
    "# Uniform (box-shaped) kernel\n",
    "mykde = sm.nonparametric.KDEUnivariate(magnitudes)\n",
    "mykde.fit(kernel=\"uni\", fft=False)\n",
    "xuni = mykde.support\n",
    "yuni = mykde.density\n",
    "\n",
    "# Triangular kernel\n",
    "mykde2 = sm.nonparametric.KDEUnivariate(magnitudes)\n",
    "mykde2.fit(kernel=\"tri\", fft=False)\n",
    "xtri = mykde2.support\n",
    "ytri = mykde2.density\n",
    "\n",
    "# Gaussian kernel\n",
    "mykde3 = sm.nonparametric.KDEUnivariate(magnitudes)\n",
    "mykde3.fit(kernel=\"gau\")\n",
    "xgau = mykde3.support\n",
    "ygau = mykde3.density"
   ]
  },
  {
   "cell_type": "markdown",
   "metadata": {},
   "source": [
    "Next we plot them in pairs, for comparison. First up: Gaussian and uniform."
   ]
  },
  {
   "cell_type": "code",
   "execution_count": 27,
   "metadata": {},
   "outputs": [
    {
     "data": {
      "image/png": "[encoded data removed]",
      "text/plain": [
       "<Figure size 648x252 with 1 Axes>"
      ]
     },
     "metadata": {},
     "output_type": "display_data"
    }
   ],
   "source": [
    "# Set the dimensions of the plot\n",
    "plt.figure( figsize=(widthInInches, heightInInches) )\n",
    "\n",
    "# Plot the two estimates\n",
    "plt.plot(xgau,ygau,label='Gaussian Kernel',color='maroon',linestyle='--')\n",
    "plt.plot(xuni,yuni,label='Uniform Kernel',color='darkslateblue',linestyle='-')\n",
    "\n",
    "# Add axis lables, tick marks and the like\n",
    "plt.xlabel('Earthquake Magnitude')\n",
    "plt.ylabel('Estimated Density')\n",
    "plt.ylim(kdeYLimits)\n",
    "plt.xlim([0,5])\n",
    "plt.xticks((0,1,2,3,4,5))\n",
    "plt.legend()\n",
    "plt.tight_layout()\n",
    "\n",
    "# Blap the plot out, both to a file and to the screen\n",
    "plt.savefig('Figures/earth_uni.pdf')\n",
    "plt.show()"
   ]
  },
  {
   "cell_type": "code",
   "execution_count": 28,
   "metadata": {},
   "outputs": [
    {
     "data": {
      "image/png": "[encoded data removed]",
      "text/plain": [
       "<Figure size 648x252 with 1 Axes>"
      ]
     },
     "metadata": {},
     "output_type": "display_data"
    }
   ],
   "source": [
    "# Set the dimensions of the plot\n",
    "plt.figure( figsize=(widthInInches, heightInInches) )\n",
    "\n",
    "# Plot the two estimates\n",
    "plt.plot(xgau,ygau,label='Gaussian Kernel',color='maroon',linestyle='--')\n",
    "plt.plot(xtri,ytri,label='Triangular Kernel',color='darkseagreen',linestyle='-')\n",
    "\n",
    "# Add axis lables, tick marks and the like\n",
    "plt.xlabel('Earthquake Magnitude')\n",
    "plt.ylabel('Estimated Density')\n",
    "plt.ylim(kdeYLimits)\n",
    "plt.xlim([0,5])\n",
    "plt.xticks((0,1,2,3,4,5))\n",
    "plt.legend()\n",
    "plt.tight_layout()\n",
    "\n",
    "# Blap the plot out, both to a file and to the screen\n",
    "plt.savefig('Figures/earth_tri.pdf')\n",
    "plt.show()"
   ]
  },
  {
   "cell_type": "code",
   "execution_count": null,
   "metadata": {},
   "outputs": [],
   "source": []
  },
  {
   "cell_type": "code",
   "execution_count": null,
   "metadata": {},
   "outputs": [],
   "source": []
  }
 ],
 "metadata": {
  "kernelspec": {
   "display_name": "Python 3",
   "language": "python",
   "name": "python3"
  },
  "language_info": {
   "codemirror_mode": {
    "name": "ipython",
    "version": 3
   },
   "file_extension": ".py",
   "mimetype": "text/x-python",
   "name": "python",
   "nbconvert_exporter": "python",
   "pygments_lexer": "ipython3",
   "version": "3.8.5"
  }
 },
 "nbformat": 4,
 "nbformat_minor": 4
}
